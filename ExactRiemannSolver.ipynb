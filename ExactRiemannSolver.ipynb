{
 "cells": [
  {
   "cell_type": "markdown",
   "metadata": {},
   "source": [
    "# An Exact Riemann solver for 1D Euler equation"
   ]
  },
  {
   "cell_type": "markdown",
   "metadata": {},
   "source": [
    "## Governing Equation\n",
    "The governing equation for the Riemann problem is the Euler equations\n",
    "\n",
    "$$ \\mathbf{U}_t+\\mathbf{F}(\\mathbf{U})_x = 0$$\n",
    "\n",
    "where \n",
    "\n",
    "$$\\mathbf{U} = \\left[ \\begin{align}\n",
    "\\rho\\\\\n",
    "\\rho u\\\\ \n",
    "E\\\\ \n",
    "\\end{align} \n",
    "\\right]\n",
    "$$, $$\n",
    "\\mathbf{F} = \\left[ \\begin{align}\n",
    "\\rho u\\\\ \\rho u^2+p\\\\ u(E+p)\\\\ \n",
    "\\end{align} \\right] $$\n",
    "\n",
    "with initial conditions of\n",
    "\n",
    "$$ \\mathbf{U}(x,0) = \\mathbf{U}^{(0)}(x)\n",
    "= \\left\\{ \\begin{align} \n",
    "\\mathbf{U}_L,\\quad \\text{if} \\quad x<0, \\\\\n",
    "\\mathbf{U}_R,\\quad \\text{if} \\quad x>0, \\\\\n",
    "\\end{align} \\right.\n",
    "$$\n",
    "\n",
    "And the EOS is\n",
    "\n",
    "$$ e = \\frac{p}{(\\gamma-1)\\rho}$$.\n"
   ]
  },
  {
   "cell_type": "code",
   "execution_count": 1,
   "metadata": {},
   "outputs": [],
   "source": [
    "struct W\n",
    "    ρ::Float64\n",
    "    u::Float64\n",
    "    p::Float64\n",
    "end"
   ]
  },
  {
   "cell_type": "markdown",
   "metadata": {},
   "source": [
    "## Solving method\n",
    "\n",
    "In the Star region, we establish a function of the pressure $p^*$ with the velocity $u^*$ on left and right sepratively.\n",
    "### Left function \n",
    "$$f_L(p, \\mathbf{W}_L) = \\left\\{ \\begin{align} \n",
    "(p-p_L)\\left[\\frac{A_L}{p+B_L}\\right]^{1/2} \\quad \\text{if} \\quad p>p_L \\quad \\text(shock),\\\\\n",
    "\\frac{2a_L}{\\gamma -1} \\left[ \\left(\\frac{p}{p_L}\\right)^{\\frac{\\gamma-1}{2\\gamma}} -1\\right] \\quad \\text{if} \\quad p\\le p_L \\quad \\text{(rarefaction)}\n",
    "\\end{align} \\right.\n",
    "$$\n",
    "and the data-dependent constants $A_L, B_L, A_R,B_R$ are given by\n",
    "$$ \\left. \\begin{array}{ll}\n",
    "      A_L = \\frac{2}{(\\gamma+1)\\rho_L},& B_L = \\frac{(\\gamma -1)}{(\\gamma +1)}p_L,\\\\\n",
    "      A_R = \\frac{2}{(\\gamma+1)\\rho_R},& B_R = \\frac{(\\gamma -1)}{(\\gamma +1)}p_R,\\\\\n",
    "      \\end{array}\\right\\} $$"
   ]
  },
  {
   "cell_type": "code",
   "execution_count": 2,
   "metadata": {},
   "outputs": [
    {
     "data": {
      "text/plain": [
       "f (generic function with 1 method)"
      ]
     },
     "execution_count": 2,
     "metadata": {},
     "output_type": "execute_result"
    }
   ],
   "source": [
    "function f(p::Float64,W₀::W,γ::Float64)\n",
    "    ρ₀,u₀,p₀ = W₀.ρ,W₀.u,W₀.p\n",
    "    \n",
    "    A = 2/((γ +1 )*ρ₀)\n",
    "    B = (γ-1)/(γ+1)*p₀\n",
    "    \n",
    "    if p>p₀ \n",
    "        return (p-p₀)*√(A/(p+B))\n",
    "    else\n",
    "        a₀ = √(γ*p₀/ρ₀)\n",
    "        return 2a₀/(γ-1)*((p/p₀)^((γ-1)/2/γ) -1)\n",
    "    end\n",
    "end    "
   ]
  },
  {
   "cell_type": "markdown",
   "metadata": {},
   "source": [
    "$$\\rho_L^* = \\rho_L(p^*/p_L)^{1/\\gamma}$$\n",
    "$$u^* = u_L -f_L(p^*,W_L)$$\n",
    "\n",
    "$$\\rho_R^* = \\rho_R(p^*/p_R)^{1/\\gamma}$$\n",
    "$$u^* = u_R +f_R(p^*,W_R)$$"
   ]
  },
  {
   "cell_type": "code",
   "execution_count": 17,
   "metadata": {},
   "outputs": [
    {
     "data": {
      "text/plain": [
       "ρₚ (generic function with 1 method)"
      ]
     },
     "execution_count": 17,
     "metadata": {},
     "output_type": "execute_result"
    }
   ],
   "source": [
    "function ρₚ(p::Float64,W₀::W,γ::Float64)\n",
    "    if p < W₀.p\n",
    "       return W₀.ρ*(p/W₀.p)^(1/γ)\n",
    "    else \n",
    "        return W₀.ρ*((γ-1)/(γ+1)+p/W₀.p)/((γ-1)/(γ+1)*p/W₀.p+1)\n",
    "    end\n",
    "end"
   ]
  },
  {
   "cell_type": "code",
   "execution_count": 7,
   "metadata": {},
   "outputs": [
    {
     "data": {
      "text/plain": [
       "Derivative (generic function with 1 method)"
      ]
     },
     "execution_count": 7,
     "metadata": {},
     "output_type": "execute_result"
    }
   ],
   "source": [
    "function Derivative(f::Function,x::Float64)\n",
    "    ϵ₀ = 1e-10\n",
    "    if abs(x) >= ϵ₀\n",
    "        ϵ= ϵ₀*x\n",
    "    else\n",
    "        ϵ =ϵ₀\n",
    "    end\n",
    "    f¹(x) = (f(x+ϵ)-f(x))/ϵ\n",
    "    return f¹(x)\n",
    "end"
   ]
  },
  {
   "cell_type": "code",
   "execution_count": 5,
   "metadata": {},
   "outputs": [
    {
     "data": {
      "text/plain": [
       "F¹ (generic function with 1 method)"
      ]
     },
     "execution_count": 5,
     "metadata": {},
     "output_type": "execute_result"
    }
   ],
   "source": [
    "    fₗ(p) = f(p,Wₗ,γ)\n",
    "    fᵣ(p) = f(p,Wᵣ,γ)\n",
    "    F(p) = fₗ(p) + fᵣ(p)+Wᵣ.u-Wₗ.u\n",
    "    F¹(p) = Derivative(p->F(p),p)"
   ]
  },
  {
   "cell_type": "markdown",
   "metadata": {},
   "source": [
    "## Newton iteration \n",
    "\n",
    "We use the Newton iteration method to solve\n",
    "$$f_L(p) +f_R(p)+ u_R-u_L = 0$$"
   ]
  },
  {
   "cell_type": "code",
   "execution_count": 57,
   "metadata": {},
   "outputs": [
    {
     "data": {
      "text/plain": [
       "RiemannSolver (generic function with 1 method)"
      ]
     },
     "execution_count": 57,
     "metadata": {},
     "output_type": "execute_result"
    }
   ],
   "source": [
    "function RiemannSolver(Wₗ::W,Wᵣ::W,γ::Float64)    \n",
    "   #     γ = 1.4\n",
    "     p = (Wₗ.p + Wᵣ.p)/2\n",
    "     TOL = 1.0e-6\n",
    "     while true\n",
    "        F₁ = F(p)\n",
    "         p1 = p- F₁/F¹(p)\n",
    "         if max(abs(F₁),2*abs(p1-p)/(p1+p)) < TOL\n",
    "            break\n",
    "        end \n",
    "        p=p1\n",
    "     #   @show p,F₁  \n",
    "    end\n",
    "    pStar = p\n",
    "    uStar = Wₗ.u-fₗ(p)\n",
    "    ρₗStar = ρₚ(p,Wₗ,γ)\n",
    "    ρᵣStar = ρₚ(p,Wᵣ,γ)\n",
    "    WₗStar = W(ρₗStar,uStar,pStar)\n",
    "    WᵣStar = W(ρᵣStar,uStar,pStar)\n",
    "    return WₗStar,WᵣStar\n",
    "    return p\n",
    "end"
   ]
  },
  {
   "cell_type": "markdown",
   "metadata": {},
   "source": [
    "### A complete result\n",
    "After Solving the states in the star regions, if we want to get a detailed ditribution, we can use the following function.\n"
   ]
  },
  {
   "cell_type": "code",
   "execution_count": 75,
   "metadata": {},
   "outputs": [
    {
     "data": {
      "text/plain": [
       "SolveDistr (generic function with 1 method)"
      ]
     },
     "execution_count": 75,
     "metadata": {},
     "output_type": "execute_result"
    }
   ],
   "source": [
    "function SolveDistr(t::Float64,Wₗ::W,Wᵣ::W,γ::Float64)\n",
    "    \n",
    "    WₗStar,WᵣStar = RiemannSolver(Wₗ,Wᵣ,γ)\n",
    "    \n",
    "    ρₗStar,uStar, pStar =WₗStar.ρ,WₗStar.u,WₗStar.p\n",
    "    ρᵣStar = WᵣStar.ρ\n",
    "    ρₗ,pₗ,uₗ = Wₗ.ρ,Wₗ.p,Wₗ.u\n",
    "    ρᵣ,pᵣ,uᵣ = Wᵣ.ρ,Wᵣ.p,Wᵣ.u\n",
    "    \n",
    "    I = 1200\n",
    "    U = zeros(Float64,(I,3))\n",
    "    x = zeros(Float64,I)\n",
    "    if pStar > pₗ  # Left shock\n",
    "        sL = (ρₗStar*uStar - ρₗ*uₗ)/(ρₗStar-ρₗ)\n",
    "        for i =1:200\n",
    "            x[i] = (2-0.005*(i-1))*sL*t\n",
    "            U[i,:] = [ρₗ,uₗ,pₗ]\n",
    "        end\n",
    "        for i = 201:600\n",
    "            x[i] = ((uStar-sL)/400*(i-200) + sL)*t\n",
    "            U[i,:] = [ρₗStar,uStar,pStar]\n",
    "        end\n",
    "    else  # Left Rarefaction\n",
    "        cL = √(γ*pₗ/ρₗ)\n",
    "        cLStar = √(γ*pStar/ρₗStar)\n",
    "        sLSlow = uₗ - cL\n",
    "        sLFast = uStar - cLStar\n",
    "        for i = 1:200\n",
    "            x[i] =(2-0.005*(i-1))*sLSlow*t\n",
    "            U[i,:] = [ρₗ,uₗ,pₗ]\n",
    "        end\n",
    "        \n",
    "        x[201:400],U[201:400,:] = RareSpeedToU(t,Wₗ,pStar,γ,1)\n",
    "        for i =401:600\n",
    "            x[i] = ((uStar - sLFast)/200*(i-400) + sLFast)*t \n",
    "            U[i,:] = [ρₗStar,uStar,pStar]\n",
    "        end \n",
    "    end\n",
    "    \n",
    "    if pStar > pᵣ  # Right shock\n",
    "        sR = (ρᵣStar*uStar - ρᵣ*uᵣ)/(ρᵣStar-ρᵣ)\n",
    "      #  @show ρᵣStar, ρᵣ\n",
    "        for i =601:1000\n",
    "            x[i] = ((-uStar+sR)/400*(i-600) + uStar)*t\n",
    "            U[i,:] = [ρᵣStar,uStar,pStar]\n",
    "        end\n",
    "        for i = 1001:1200\n",
    "            x[i] = (1+0.005*(i-1001))*sR*t\n",
    "            U[i,:] = [ρᵣ,uᵣ,pᵣ]\n",
    "        end\n",
    "    else  # Right Rarefaction\n",
    "        cR = √(γ*pᵣ/ρᵣ)\n",
    "        cRStar = √(γ*pStar/ρᵣStar)\n",
    "        sRFast = uᵣ + cR\n",
    "        sRSlow = uStar + cRStar\n",
    "        \n",
    "        for i = 1000:1200\n",
    "           x[i] =(1+0.005*(i-1001))*sRFast*t\n",
    "            U[i,:] = [ρᵣ,uᵣ,pᵣ]\n",
    "        end\n",
    "        \n",
    "        x[801:1000],U[801:1000,:] = RareSpeedToU(t,Wᵣ,pStar,γ,2)\n",
    "        for i =601:800\n",
    "             x[i] = ((-uStar + sRSlow)/200*(i-600) + uStar)*t \n",
    "             U[i,:] = [ρᵣStar,uStar,pStar]\n",
    "        end \n",
    "    end\n",
    "    return x, U\n",
    "end"
   ]
  },
  {
   "cell_type": "code",
   "execution_count": 90,
   "metadata": {},
   "outputs": [
    {
     "data": {
      "text/plain": [
       "RareSpeedToU (generic function with 1 method)"
      ]
     },
     "execution_count": 90,
     "metadata": {},
     "output_type": "execute_result"
    }
   ],
   "source": [
    "function RareSpeedToU(t::Float64, W₀::W, p::Float64,γ::Float64,LoR::Int)\n",
    "    ρ₀,u₀,p₀ = W₀.ρ, W₀.u,W₀.p\n",
    "    \n",
    "    x = zeros(Float64,200)\n",
    "    U = zeros(Float64,(200,3))\n",
    "    \n",
    "    Δp = (p-p₀)/200\n",
    "    \n",
    "    for i in 1:200\n",
    "        p = p₀ + Δp*(i-1)\n",
    "        ρ = ρₚ(p, W₀, γ)\n",
    "        c= √(γ*p/ρ)\n",
    "        f₀ = f(p, W₀, γ)\n",
    "        if LoR == 1\n",
    "            u = u₀-f₀\n",
    "            uc = u-c\n",
    "        x[i] = uc*t\n",
    "        U[i,1:3] = [ρ,u,p]\n",
    "        else\n",
    "            u = u₀+f₀\n",
    "            uc = u+c\n",
    "        x[200-i+1] = uc*t\n",
    "        U[200-i+1,1:3] = [ρ,u,p]\n",
    "        end\n",
    "        \n",
    "    end\n",
    "    return x, U            \n",
    "end"
   ]
  },
  {
   "cell_type": "code",
   "execution_count": 91,
   "metadata": {},
   "outputs": [
    {
     "data": {
      "text/plain": [
       "([-0.236643, -0.236052, -0.23546, -0.234868, -0.234277, -0.233685, -0.233094, -0.232502, -0.23191, -0.231319  …  0.34167, 0.342546, 0.343423, 0.344299, 0.345175, 0.346051, 0.346927, 0.347803, 0.348679, 0.349555], [1.0 0.0 1.0; 1.0 0.0 1.0; … ; 0.125 0.0 0.1; 0.125 0.0 0.1])"
      ]
     },
     "execution_count": 91,
     "metadata": {},
     "output_type": "execute_result"
    }
   ],
   "source": [
    "Wₗ = W(1.0,0.0,1.0)\n",
    "Wᵣ = W(0.125,0.0,0.1)\n",
    "γ = 1.4\n",
    "#RiemannSolver(Wₗ,Wᵣ,γ)\n",
    "x,U = SolveDistr(0.1,Wₗ,Wᵣ,γ)"
   ]
  },
  {
   "cell_type": "code",
   "execution_count": 92,
   "metadata": {},
   "outputs": [
    {
     "data": {
      "text/plain": [
       "Plots.PyPlotBackend()"
      ]
     },
     "execution_count": 92,
     "metadata": {},
     "output_type": "execute_result"
    }
   ],
   "source": [
    "using Plots\n",
    "using LaTeXStrings\n",
    "pyplot()"
   ]
  },
  {
   "cell_type": "code",
   "execution_count": 93,
   "metadata": {},
   "outputs": [
    {
     "data": {
      "image/png": "[encoded data removed]"
     },
     "execution_count": 93,
     "metadata": {},
     "output_type": "execute_result"
    }
   ],
   "source": [
    "p1 = plot(x,U[:,1], xlabel = \"x\", ylabel=L\" \\rho\",width =2 ,label = \"Exact\",color =\"black\")\n",
    "p2 = plot(x,U[:,2], xlabel = \"x\", ylabel=L\" u\",width =2 ,label = \"Exact\",color =\"black\")\n",
    "p3 = plot(x,U[:,3], xlabel = \"x\", ylabel=L\" p\",width =2 ,label = \"Exact\",color =\"black\")\n",
    "l=@layout [a [b;c]]\n",
    "p = plot(p1,p2,p3,layout=l)"
   ]
  },
  {
   "cell_type": "code",
   "execution_count": 94,
   "metadata": {},
   "outputs": [
    {
     "data": {
      "text/plain": [
       "([-7.48331, -7.46461, -7.4459, -7.42719, -7.40848, -7.38977, -7.37107, -7.35236, -7.33365, -7.31494  …  4.58592, 4.59768, 4.60944, 4.6212, 4.63295, 4.64471, 4.65647, 4.66823, 4.67999, 4.69175], [1.0 0.0 1000.0; 1.0 0.0 1000.0; … ; 1.0 0.0 0.01; 1.0 0.0 0.01])"
      ]
     },
     "execution_count": 94,
     "metadata": {},
     "output_type": "execute_result"
    }
   ],
   "source": [
    "Wₗ = W(1.0,0.0,1000)\n",
    "Wᵣ = W(1.0,0.0,0.01)\n",
    "γ = 1.4\n",
    "#RiemannSolver(Wₗ,Wᵣ,γ)\n",
    "x,U = SolveDistr(0.1,Wₗ,Wᵣ,γ)"
   ]
  },
  {
   "cell_type": "code",
   "execution_count": 95,
   "metadata": {},
   "outputs": [
    {
     "data": {
      "image/png": "[encoded data removed]"
     },
     "execution_count": 95,
     "metadata": {},
     "output_type": "execute_result"
    }
   ],
   "source": [
    "p1 = plot(x,U[:,1], xlabel = \"x\", ylabel=L\" \\rho\",width =2 ,label = \"Exact\",color =\"black\")\n",
    "p2 = plot(x,U[:,2], xlabel = \"x\", ylabel=L\" u\",width =2 ,label = \"Exact\",color =\"black\")\n",
    "p3 = plot(x,U[:,3], xlabel = \"x\", ylabel=L\" p\",width =2 ,label = \"Exact\",color =\"black\")\n",
    "l=@layout [a [b;c]]\n",
    "p = plot(p1,p2,p3,layout=l)"
   ]
  },
  {
   "cell_type": "code",
   "execution_count": 96,
   "metadata": {},
   "outputs": [
    {
     "data": {
      "text/plain": [
       "([-1.4875, -1.48378, -1.48006, -1.47634, -1.47262, -1.4689, -1.46518, -1.46146, -1.45775, -1.45403  …  2.30727, 2.31319, 2.3191, 2.32502, 2.33094, 2.33685, 2.34277, 2.34868, 2.3546, 2.36052], [1.0 0.0 0.01; 1.0 0.0 0.01; … ; 1.0 0.0 100.0; 1.0 0.0 100.0])"
      ]
     },
     "execution_count": 96,
     "metadata": {},
     "output_type": "execute_result"
    }
   ],
   "source": [
    "Wₗ = W(1.0,0.0,0.01)\n",
    "Wᵣ = W(1.0,0.0,100)\n",
    "γ = 1.4\n",
    "#RiemannSolver(Wₗ,Wᵣ,γ)\n",
    "x,U = SolveDistr(0.1,Wₗ,Wᵣ,γ)"
   ]
  },
  {
   "cell_type": "code",
   "execution_count": 97,
   "metadata": {},
   "outputs": [
    {
     "data": {
      "image/png": "[encoded data removed]"
     },
     "execution_count": 97,
     "metadata": {},
     "output_type": "execute_result"
    }
   ],
   "source": [
    "p1 = plot(x,U[:,1], xlabel = \"x\", ylabel=L\" \\rho\",width =2 ,label = \"Exact\",color =\"black\")\n",
    "p2 = plot(x,U[:,2], xlabel = \"x\", ylabel=L\" u\",width =2 ,label = \"Exact\",color =\"black\")\n",
    "p3 = plot(x,U[:,3], xlabel = \"x\", ylabel=L\" p\",width =2 ,label = \"Exact\",color =\"black\")\n",
    "l=@layout [a [b;c]]\n",
    "p = plot(p1,p2,p3,layout=l)"
   ]
  },
  {
   "cell_type": "code",
   "execution_count": null,
   "metadata": {},
   "outputs": [],
   "source": []
  }
 ],
 "metadata": {
  "kernelspec": {
   "display_name": "Julia 1.1.1",
   "language": "julia",
   "name": "julia-1.1"
  },
  "language_info": {
   "file_extension": ".jl",
   "mimetype": "application/julia",
   "name": "julia",
   "version": "1.1.1"
  }
 },
 "nbformat": 4,
 "nbformat_minor": 2
}
